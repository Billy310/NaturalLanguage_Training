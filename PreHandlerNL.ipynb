{
 "cells": [
  {
   "cell_type": "code",
   "execution_count": 4,
   "metadata": {},
   "outputs": [
    {
     "data": {
      "text/plain": [
       "'my system keep crash hi crash yesterday, our crash daili .'"
      ]
     },
     "execution_count": 4,
     "metadata": {},
     "output_type": "execute_result"
    }
   ],
   "source": [
    "import nltk\n",
    "\n",
    "text = \"My System keeps crashing his crashed yesterday, ours crashs daily .\"\n",
    "\n",
    "ps = nltk.PorterStemmer()\n",
    "' '.join([ps.stem(word) for word in text.split()])\n",
    "\n"
   ]
  },
  {
   "cell_type": "code",
   "execution_count": 6,
   "metadata": {},
   "outputs": [
    {
     "data": {
      "text/plain": [
       "'My System keep crashing his crashed yesterday, ours crash daily .'"
      ]
     },
     "execution_count": 6,
     "metadata": {},
     "output_type": "execute_result"
    }
   ],
   "source": [
    "lem = nltk.WordNetLemmatizer()\n",
    "\n",
    "' '.join([lem.lemmatize(word) for word in text.split()])"
   ]
  },
  {
   "cell_type": "code",
   "execution_count": 13,
   "metadata": {},
   "outputs": [
    {
     "name": "stdout",
     "output_type": "stream",
     "text": [
      "Punctation  !\"#$%&'()*+,-./:;<=>?@[\\]^_`{|}~\n",
      "{\"wasn't\", 'own', 'than', '_', 'but', 'why', 'it', 'no', 'couldn', 'doesn', \"haven't\", 'how', 'weren', 'now', \"hasn't\", 'did', 'so', 'through', 'some', \"you've\", 'does', \"wouldn't\", '!', 'shouldn', 'against', \"shan't\", '^', '`', \"needn't\", 'where', 'nor', 'then', 'mustn', 'were', 'any', 'yourselves', 'her', 'yourself', 'o', \"won't\", 'off', 'the', 'had', \"didn't\", \"you're\", 'above', 'yours', 'me', 'this', 'myself', 'hasn', 'all', 'if', \"isn't\", 'is', 'between', 'mightn', 'up', \"you'll\", '{', 'and', '@', 'himself', 'those', '$', '+', ']', 'm', 'shan', 'hadn', 'there', 'here', 'whom', 'needn', 'after', '[', 'itself', \"couldn't\", 'being', \"that'll\", 'your', 'wouldn', '%', \"you'd\", 'each', 'over', 'their', 'when', 'i', 'below', '/', 'his', 'about', 'our', 'wasn', 'you', ')', 'don', 'because', 'same', 'haven', 'its', 'they', ',', 'what', 'of', 'for', \"don't\", 'out', '~', ':', '.', 'both', 'd', \"mightn't\", 'most', \"shouldn't\", 'do', 'an', 'in', ';', 'them', '*', 'be', 'with', 'ourselves', 've', 'once', 'am', \"mustn't\", 'having', 'or', 'such', 'down', 'didn', '\\\\', '-', 'isn', 'herself', '(', 're', 'before', 'll', '=', 'too', 'a', '?', '>', 'to', 'he', 'she', 'further', '<', \"'\", 'as', '&', 'from', 'been', 'him', '|', 't', 'ain', \"should've\", 'not', \"aren't\", 'again', 'few', \"hadn't\", 'just', 'very', 'during', 'more', 'y', \"she's\", 'ours', 'that', 'on', 'themselves', 'we', 'will', 'ma', 'theirs', 'who', 'while', '\"', 'should', 'can', 'other', 'was', '}', '#', 'aren', \"it's\", 'have', 'has', 'which', 'these', 'by', 'doing', 'my', 's', \"weren't\", 'into', 'until', 'hers', 'under', 'are', \"doesn't\", 'at', 'only', 'won'}\n"
     ]
    },
    {
     "data": {
      "text/plain": [
       "'Today great day It even better yesterday.and yesterday best day ever'"
      ]
     },
     "execution_count": 13,
     "metadata": {},
     "output_type": "execute_result"
    }
   ],
   "source": [
    "import string\n",
    "from nltk.corpus import stopwords\n",
    "\n",
    "print(\"Punctation \",string.punctuation)\n",
    "\n",
    "\n",
    "text = \"Today is a great day. It is even better than yesterday.\" + \\\n",
    "    \"and yesterday was the best day ever\"\n",
    "\n",
    "stopword_list = set(stopwords.words(\"english\")+list(string.punctuation))\n",
    "\n",
    "\n",
    "def removeStopword(text,is_lowercase=False):\n",
    "    if is_lowercase:\n",
    "        text= text.lower()\n",
    "    \n",
    "    tokens = nltk.word_tokenize(text)\n",
    "\n",
    "    tokens = [token.strip() for token in tokens]\n",
    "\n",
    "    filter_tokens = [token for token in tokens if token not in stopword_list]\n",
    "\n",
    "    filter_text = ' '.join(filter_tokens)\n",
    "    \n",
    "    return filter_text,filter_tokens\n",
    "\n",
    "filter_text,filter_tokens = removeStopword(text)\n",
    "\n",
    "filter_text"
   ]
  },
  {
   "cell_type": "code",
   "execution_count": 15,
   "metadata": {},
   "outputs": [
    {
     "name": "stdout",
     "output_type": "stream",
     "text": [
      "[('hi', 2), ('example', 2), ('paragraph', 2), ('uses', 1), ('word', 1), ('“', 1), ('”', 1), ('development', 1), ('progresses', 1), ('illustrates', 1), ('claims', 1), ('made', 1), ('previous', 1), ('sentences', 1)]\n"
     ]
    }
   ],
   "source": [
    "import collections\n",
    "\n",
    "word_freqs =collections.Counter()\n",
    "\n",
    "with open('./Testing.txt',\"r+\",encoding=\"UTF-8\") as f:\n",
    "    text= f.read()\n",
    "\n",
    "    filter_text,filter_tokens = removeStopword(text,True)\n",
    "\n",
    "    for word in filter_tokens:\n",
    "        word_freqs[word]+=1\n",
    "    print(word_freqs.most_common(20))\n",
    "\n",
    " "
   ]
  },
  {
   "cell_type": "code",
   "execution_count": 19,
   "metadata": {},
   "outputs": [
    {
     "name": "stdout",
     "output_type": "stream",
     "text": [
      "[('hi', 2), ('example', 2), ('paragraph', 2), ('us', 1), ('word', 1), ('development', 1), ('progress', 1), ('illustrates', 1), ('claim', 1), ('made', 1), ('previous', 1), ('sentence', 1)]\n"
     ]
    }
   ],
   "source": [
    "import collections\n",
    "\n",
    "lem = nltk.WordNetLemmatizer()\n",
    "\n",
    "def remove_stopwords_regex(text,is_lower_case=False):\n",
    "    if is_lower_case:\n",
    "        text= text.lower()\n",
    "    \n",
    "    tokenizer =nltk.tokenize.RegexpTokenizer(r'\\w+')\n",
    "    tokens = tokenizer.tokenize(text)\n",
    "    tokens = [lem.lemmatize(token.strip()) for token in tokens]\n",
    "    filter_tokens = [token for token in tokens if token not in stopword_list]\n",
    "    filter_text = ' '.join(filter_tokens)\n",
    "    return filter_text,filter_tokens  \n",
    "\n",
    "filter_text,filter_tokens = remove_stopwords_regex(text,True)\n",
    "word_freqs =  collections.Counter()\n",
    "\n",
    "for word in filter_tokens:\n",
    "    word_freqs[word]+=1\n",
    "\n",
    "print(word_freqs.most_common(20))"
   ]
  },
  {
   "cell_type": "code",
   "execution_count": 22,
   "metadata": {},
   "outputs": [
    {
     "data": {
      "text/plain": [
       "[Synset('love.n.01'),\n",
       " Synset('love.n.02'),\n",
       " Synset('beloved.n.01'),\n",
       " Synset('love.n.04'),\n",
       " Synset('love.n.05'),\n",
       " Synset('sexual_love.n.02'),\n",
       " Synset('love.v.01'),\n",
       " Synset('love.v.02'),\n",
       " Synset('love.v.03'),\n",
       " Synset('sleep_together.v.01')]"
      ]
     },
     "execution_count": 22,
     "metadata": {},
     "output_type": "execute_result"
    }
   ],
   "source": [
    "from nltk.corpus import wordnet\n",
    "\n",
    "synonyms = wordnet.synsets('love')\n",
    "\n",
    "synonyms"
   ]
  },
  {
   "cell_type": "code",
   "execution_count": 23,
   "metadata": {},
   "outputs": [
    {
     "data": {
      "text/plain": [
       "'a strong positive emotion of regard and affection'"
      ]
     },
     "execution_count": 23,
     "metadata": {},
     "output_type": "execute_result"
    }
   ],
   "source": [
    "synonyms[0].definition()"
   ]
  },
  {
   "cell_type": "code",
   "execution_count": 24,
   "metadata": {},
   "outputs": [
    {
     "data": {
      "text/plain": [
       "['his love for his work', 'children need a lot of love']"
      ]
     },
     "execution_count": 24,
     "metadata": {},
     "output_type": "execute_result"
    }
   ],
   "source": [
    "synonyms[0].examples()"
   ]
  },
  {
   "cell_type": "code",
   "execution_count": 64,
   "metadata": {},
   "outputs": [
    {
     "data": {
      "text/plain": [
       "['beautiful']"
      ]
     },
     "execution_count": 64,
     "metadata": {},
     "output_type": "execute_result"
    }
   ],
   "source": [
    "from nltk.corpus import wordnet\n",
    "\n",
    "antonyms = []\n",
    "\n",
    "for syn in wordnet.synsets('ugly'):\n",
    "    for l in syn.lemmas():\n",
    "        if l.antonyms():\n",
    "            antonyms.append(l.antonyms()[0].name())\n",
    "            \n",
    "antonyms"
   ]
  },
  {
   "cell_type": "code",
   "execution_count": 66,
   "metadata": {},
   "outputs": [
    {
     "name": "stdout",
     "output_type": "stream",
     "text": [
      "[('I', 'PRP'), ('am', 'VBP'), ('a', 'DT'), ('human', 'JJ'), ('being', 'VBG'), (',', ','), ('capable', 'JJ'), ('of', 'IN'), ('doing', 'VBG'), ('terrible', 'JJ'), ('thing', 'NN')]\n"
     ]
    }
   ],
   "source": [
    "import nltk\n",
    "\n",
    "text = \"I am a human being,capable of doing terrible thing\"\n",
    "sentence = nltk.sent_tokenize(text)\n",
    "\n",
    "for sent in sentence:\n",
    "    print(nltk.pos_tag(nltk.word_tokenize(text)))"
   ]
  }
 ],
 "metadata": {
  "kernelspec": {
   "display_name": "Python 3",
   "language": "python",
   "name": "python3"
  },
  "language_info": {
   "codemirror_mode": {
    "name": "ipython",
    "version": 3
   },
   "file_extension": ".py",
   "mimetype": "text/x-python",
   "name": "python",
   "nbconvert_exporter": "python",
   "pygments_lexer": "ipython3",
   "version": "3.11.3"
  },
  "orig_nbformat": 4
 },
 "nbformat": 4,
 "nbformat_minor": 2
}
