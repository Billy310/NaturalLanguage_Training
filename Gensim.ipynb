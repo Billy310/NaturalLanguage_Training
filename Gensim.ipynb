{
 "cells": [
  {
   "cell_type": "code",
   "execution_count": 13,
   "metadata": {},
   "outputs": [],
   "source": [
    "import pprint\n",
    "import collections\n",
    "import gensim\n",
    "from gensim import corpora"
   ]
  },
  {
   "cell_type": "code",
   "execution_count": 14,
   "metadata": {},
   "outputs": [
    {
     "data": {
      "text/plain": [
       "[['chatgpt',\n",
       "  'is',\n",
       "  'an',\n",
       "  'ai',\n",
       "  'language',\n",
       "  'model',\n",
       "  'that',\n",
       "  'can',\n",
       "  'hold',\n",
       "  'conversation',\n",
       "  'with',\n",
       "  'end',\n",
       "  'user.'],\n",
       " ['it', 'is', 'created', 'by', 'openai.'],\n",
       " ['chatgpt',\n",
       "  'does',\n",
       "  'not',\n",
       "  'have',\n",
       "  'ability',\n",
       "  'search',\n",
       "  'internet',\n",
       "  'information.'],\n",
       " ['it', 'is', 'sibling', 'model', 'instructgpt.'],\n",
       " ['instructgpt',\n",
       "  'is',\n",
       "  'trained',\n",
       "  'follow',\n",
       "  'an',\n",
       "  'instruction',\n",
       "  'prompt',\n",
       "  'provide',\n",
       "  'detailed',\n",
       "  'response.'],\n",
       " ['chatgpt', 'is', 'free', 'use', 'during', 'research', 'preview.'],\n",
       " ['you', 'can', 'visit', 'chat.openai.com', 'try', 'it', 'out.'],\n",
       " ['chatgpt',\n",
       "  'can',\n",
       "  'be',\n",
       "  'used',\n",
       "  'various',\n",
       "  'purposes',\n",
       "  'such',\n",
       "  'as',\n",
       "  'customer',\n",
       "  'service,',\n",
       "  'education,',\n",
       "  'entertainment.'],\n",
       " ['it',\n",
       "  'can',\n",
       "  'be',\n",
       "  'used',\n",
       "  'generate',\n",
       "  'content',\n",
       "  'such',\n",
       "  'as',\n",
       "  'poems,',\n",
       "  'stories,',\n",
       "  'code,',\n",
       "  'essays,',\n",
       "  'songs,',\n",
       "  'celebrity',\n",
       "  'parodies',\n",
       "  'more.'],\n",
       " ['chatgpt',\n",
       "  'can',\n",
       "  'also',\n",
       "  'help',\n",
       "  'users',\n",
       "  'with',\n",
       "  'rewriting,',\n",
       "  'improving',\n",
       "  'or',\n",
       "  'optimizing',\n",
       "  'their',\n",
       "  'content.']]"
      ]
     },
     "execution_count": 14,
     "metadata": {},
     "output_type": "execute_result"
    }
   ],
   "source": [
    "documents = [\"ChatGPT is an AI language model that can hold a conversation with the end user.\",\n",
    "\"It is created by OpenAI.\",\n",
    "\"ChatGPT does not have the ability to search the internet for information.\",\n",
    "\"It is a sibling model to InstructGPT.\",\n",
    "\"InstructGPT is trained to follow an instruction in a prompt and provide a detailed response.\",\n",
    "\"ChatGPT is free to use during the research preview.\",\n",
    "\"You can visit chat.openai.com to try it out.\",\n",
    "\"ChatGPT can be used for various purposes such as customer service, education, and entertainment.\",\n",
    "\"It can be used to generate content such as poems, stories, code, essays, songs, celebrity parodies and more.\",\n",
    "\"ChatGPT can also help users with rewriting, improving or optimizing their content.\"]\n",
    "\n",
    "stoplist = set('for a of the and to in'.split())\n",
    "\n",
    "texts = [\n",
    "\n",
    "    [word for word in document.lower().split() if word not in stoplist]\n",
    "    for document in documents\n",
    "]\n",
    "\n",
    "texts\n"
   ]
  },
  {
   "cell_type": "code",
   "execution_count": 17,
   "metadata": {},
   "outputs": [
    {
     "data": {
      "text/plain": [
       "defaultdict(int,\n",
       "            {'chatgpt': 5,\n",
       "             'is': 5,\n",
       "             'an': 2,\n",
       "             'ai': 1,\n",
       "             'language': 1,\n",
       "             'model': 2,\n",
       "             'that': 1,\n",
       "             'can': 5,\n",
       "             'hold': 1,\n",
       "             'conversation': 1,\n",
       "             'with': 2,\n",
       "             'end': 1,\n",
       "             'user.': 1,\n",
       "             'it': 4,\n",
       "             'created': 1,\n",
       "             'by': 1,\n",
       "             'openai.': 1,\n",
       "             'does': 1,\n",
       "             'not': 1,\n",
       "             'have': 1,\n",
       "             'ability': 1,\n",
       "             'search': 1,\n",
       "             'internet': 1,\n",
       "             'information.': 1,\n",
       "             'sibling': 1,\n",
       "             'instructgpt.': 1,\n",
       "             'instructgpt': 1,\n",
       "             'trained': 1,\n",
       "             'follow': 1,\n",
       "             'instruction': 1,\n",
       "             'prompt': 1,\n",
       "             'provide': 1,\n",
       "             'detailed': 1,\n",
       "             'response.': 1,\n",
       "             'free': 1,\n",
       "             'use': 1,\n",
       "             'during': 1,\n",
       "             'research': 1,\n",
       "             'preview.': 1,\n",
       "             'you': 1,\n",
       "             'visit': 1,\n",
       "             'chat.openai.com': 1,\n",
       "             'try': 1,\n",
       "             'out.': 1,\n",
       "             'be': 2,\n",
       "             'used': 2,\n",
       "             'various': 1,\n",
       "             'purposes': 1,\n",
       "             'such': 2,\n",
       "             'as': 2,\n",
       "             'customer': 1,\n",
       "             'service,': 1,\n",
       "             'education,': 1,\n",
       "             'entertainment.': 1,\n",
       "             'generate': 1,\n",
       "             'content': 1,\n",
       "             'poems,': 1,\n",
       "             'stories,': 1,\n",
       "             'code,': 1,\n",
       "             'essays,': 1,\n",
       "             'songs,': 1,\n",
       "             'celebrity': 1,\n",
       "             'parodies': 1,\n",
       "             'more.': 1,\n",
       "             'also': 1,\n",
       "             'help': 1,\n",
       "             'users': 1,\n",
       "             'rewriting,': 1,\n",
       "             'improving': 1,\n",
       "             'or': 1,\n",
       "             'optimizing': 1,\n",
       "             'their': 1,\n",
       "             'content.': 1})"
      ]
     },
     "execution_count": 17,
     "metadata": {},
     "output_type": "execute_result"
    }
   ],
   "source": [
    "frequency = collections.defaultdict(int)\n",
    "for text in texts:\n",
    "    for token in text:\n",
    "        frequency[token]+=1\n",
    "\n",
    "frequency"
   ]
  },
  {
   "cell_type": "code",
   "execution_count": 18,
   "metadata": {},
   "outputs": [
    {
     "data": {
      "text/plain": [
       "[['chatgpt', 'is', 'an', 'model', 'can', 'with'],\n",
       " ['it', 'is'],\n",
       " ['chatgpt'],\n",
       " ['it', 'is', 'model'],\n",
       " ['is', 'an'],\n",
       " ['chatgpt', 'is'],\n",
       " ['can', 'it'],\n",
       " ['chatgpt', 'can', 'be', 'used', 'such', 'as'],\n",
       " ['it', 'can', 'be', 'used', 'such', 'as'],\n",
       " ['chatgpt', 'can', 'with']]"
      ]
     },
     "execution_count": 18,
     "metadata": {},
     "output_type": "execute_result"
    }
   ],
   "source": [
    "texts = [[token for token in text  if frequency[token] > 1 ]\n",
    "for text in texts\n",
    "]\n",
    "\n",
    "texts"
   ]
  },
  {
   "cell_type": "code",
   "execution_count": 23,
   "metadata": {},
   "outputs": [
    {
     "data": {
      "text/plain": [
       "[[(0, 1), (1, 1), (2, 1), (3, 1), (4, 1), (5, 1)],\n",
       " [(3, 1), (6, 1)],\n",
       " [(2, 1)],\n",
       " [(3, 1), (4, 1), (6, 1)],\n",
       " [(0, 1), (3, 1)],\n",
       " [(2, 1), (3, 1)],\n",
       " [(1, 1), (6, 1)],\n",
       " [(1, 1), (2, 1), (7, 1), (8, 1), (9, 1), (10, 1)],\n",
       " [(1, 1), (6, 1), (7, 1), (8, 1), (9, 1), (10, 1)],\n",
       " [(1, 1), (2, 1), (5, 1)]]"
      ]
     },
     "execution_count": 23,
     "metadata": {},
     "output_type": "execute_result"
    }
   ],
   "source": [
    "dictionary = corpora.Dictionary(texts)\n",
    "corpus = [dictionary.doc2bow(text) for text in texts]\n",
    "\n",
    "corpus"
   ]
  }
 ],
 "metadata": {
  "kernelspec": {
   "display_name": "Python 3",
   "language": "python",
   "name": "python3"
  },
  "language_info": {
   "codemirror_mode": {
    "name": "ipython",
    "version": 3
   },
   "file_extension": ".py",
   "mimetype": "text/x-python",
   "name": "python",
   "nbconvert_exporter": "python",
   "pygments_lexer": "ipython3",
   "version": "3.11.3"
  },
  "orig_nbformat": 4
 },
 "nbformat": 4,
 "nbformat_minor": 2
}
